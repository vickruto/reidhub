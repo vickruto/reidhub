{
  "cells": [
    {
      "cell_type": "markdown",
      "metadata": {
        "id": "bQYNTq41aavH"
      },
      "source": [
        "## ReIDHub\n",
        "\n",
        "Name: Victor Ruto"
      ]
    },
    {
      "cell_type": "markdown",
      "source": [
        "[![View Documentation](https://img.shields.io/badge/View%20Project%20Documentation-📖-blue?style=for-the-badge)](https://vickruto.github.io/reidhub \"reidhub docs (work in progress)\")\n",
        "\n",
        "This work is still in progress and actively being developed. There's probably a newer version of this notebook with new updates. Check it out on Colab  [![Colab](https://colab.research.google.com/assets/colab-badge.svg)](https://colab.research.google.com/github/vickruto/reidhub/blob/main/notebooks/2025-09-22-reidhub-checkpoint.ipynb \"Open this notebook in Colab\")\n"
      ],
      "metadata": {
        "id": "iZQLkAsbMpCM"
      }
    },
    {
      "cell_type": "markdown",
      "source": [
        "## **Abstract**\n",
        "\n",
        "Animal re-identification (ReID) is a critical task in wildlife monitoring and conservation research, yet workflows for accessing, processing, and analyzing open-source ReID datasets remain fragmented. This project introduces **`ReIDHub`**, a framework structured around the Access–Assess–Address paradigm to streamline dataset-driven research in animal ReID. The framework enables users to:  \n",
        " (i) **Access** open-source ReID datasets in standardized formats and visualize them through tools like FiftyOne;  \n",
        " (ii) **Assess** datasets by computing summary statistics, potential image quality issues such as over exposure or over illumination, and reusable artifacts such as foundation model embeddings and open source model predictions, while caching results; and  \n",
        " (iii) **Address** scientific and practical needs by evaluating the datasets on reidentification benchmark models such as `MegaDescriptor` and traditional computer vision approaches such as `SIFT`\n",
        "  \n",
        "In addition, ReIDHub centralizes dataset-related metadata, including original publications and subsequent research outputs, supported by easily accessible and clear documentation built with MkDocs. By making datasets and analyses more portable, reproducible, and extensible, ReIDHub lowers barriers to entry for animal ReID research and accelerates collaborative conservation science.\n"
      ],
      "metadata": {
        "id": "NRTX4msMhlOR"
      }
    },
    {
      "cell_type": "markdown",
      "source": [
        "## Installs and Setup"
      ],
      "metadata": {
        "id": "umCvt1HkbGwO"
      }
    },
    {
      "cell_type": "code",
      "source": [
        "!uv pip install fiftyone"
      ],
      "metadata": {
        "colab": {
          "base_uri": "https://localhost:8080/"
        },
        "collapsed": true,
        "id": "H2q69FmWa1Vu",
        "outputId": "ebab081e-6feb-4afa-cb7e-0865c0d19450"
      },
      "execution_count": 5,
      "outputs": [
        {
          "output_type": "stream",
          "name": "stdout",
          "text": [
            "\u001b[2mUsing Python 3.12.11 environment at: /usr\u001b[0m\n",
            "\u001b[2mAudited \u001b[1m1 package\u001b[0m \u001b[2min 103ms\u001b[0m\u001b[0m\n"
          ]
        }
      ]
    },
    {
      "cell_type": "code",
      "execution_count": 6,
      "metadata": {
        "id": "XeKHkD33aavb"
      },
      "outputs": [],
      "source": [
        "import os\n",
        "import sys\n",
        "from pathlib import Path\n",
        "import numpy as np\n",
        "import pandas as pd"
      ]
    },
    {
      "cell_type": "code",
      "execution_count": 7,
      "metadata": {
        "colab": {
          "base_uri": "https://localhost:8080/"
        },
        "id": "g1H4P4Ufaavk",
        "outputId": "549c03dd-968d-48c2-9cc8-d52a0d81d2c8"
      },
      "outputs": [
        {
          "output_type": "stream",
          "name": "stdout",
          "text": [
            "Loaded pre-installed package\n"
          ]
        }
      ],
      "source": [
        "## Load reidhub package\n",
        "checkpoint_commit_hash = \"5deed430e8c9b6ab762c40245808e5da695db1d5\"\n",
        "\n",
        "try:\n",
        "    import reidhub ## For local development, the package is alread installed using `poetry install`\n",
        "    print('Loaded pre-installed package')\n",
        "\n",
        "except:\n",
        "    !git clone https://github.com/vickruto/reidhub.git\n",
        "    !cd reidhub && git checkout {checkpoint_commit_hash}\n",
        "    full_path = os.path.abspath('reidhub')\n",
        "    sys.path.insert(0, full_path)\n",
        "    print(full_path)\n",
        "    import reidhub\n",
        "    print('\\n\\nSuccessfully cloned and loaded package from github')"
      ]
    },
    {
      "cell_type": "code",
      "source": [
        "help(reidhub)"
      ],
      "metadata": {
        "colab": {
          "base_uri": "https://localhost:8080/"
        },
        "id": "GE_NTHuIKnlm",
        "outputId": "d0017c3f-79dc-48d6-8969-f20c6d28c708"
      },
      "execution_count": 8,
      "outputs": [
        {
          "output_type": "stream",
          "name": "stdout",
          "text": [
            "Help on package reidhub:\n",
            "\n",
            "NAME\n",
            "    reidhub\n",
            "\n",
            "PACKAGE CONTENTS\n",
            "    access (package)\n",
            "    address (package)\n",
            "    assess (package)\n",
            "    config\n",
            "    tests (package)\n",
            "\n",
            "FILE\n",
            "    /content/reidhub/reidhub/__init__.py\n",
            "\n",
            "\n"
          ]
        }
      ]
    },
    {
      "cell_type": "markdown",
      "metadata": {
        "id": "j7KjzgV-aavn"
      },
      "source": [
        "## Access"
      ]
    },
    {
      "cell_type": "markdown",
      "metadata": {
        "id": "gpEUk549aavo"
      },
      "source": [
        "### Loading a Raw Dataset"
      ]
    },
    {
      "cell_type": "markdown",
      "metadata": {
        "id": "fLT6bWbPaavp"
      },
      "source": [
        "Animal reidentification datasets come in different formats depending on many factors such as:  \n",
        "\n",
        "The reidhub package has utilities written to load each of the datasets already added to the package to download them.\n",
        "\n",
        "We are going to demonstrate this with an example dataset that is already added to the package.\n",
        "We will be using the [Great Zebra and Giraffe Count Dataset](https://lila.science/datasets/great-zebra-giraffe-id)\n",
        "\n",
        "ReIDHub caches datasets that are already downloaded."
      ]
    },
    {
      "cell_type": "code",
      "execution_count": 9,
      "metadata": {
        "colab": {
          "base_uri": "https://localhost:8080/"
        },
        "id": "10CvQrPAaavr",
        "outputId": "ecb15350-9f60-47c3-9e1d-b12baa1627d2"
      },
      "outputs": [
        {
          "output_type": "stream",
          "name": "stdout",
          "text": [
            "Help on function download_and_extract in module reidhub.access.provenance.gzgc:\n",
            "\n",
            "download_and_extract() -> str\n",
            "    downloads the gzgc from the gcp bucket url provided by lila datasets.\n",
            "    Accessible here: https://lila.science/datasets/great-zebra-giraffe-id\n",
            "\n",
            "    Args:\n",
            "        DATASET_ID: str :- the identifier for the dataset.\n",
            "\n",
            "    returns:\n",
            "        a path to the extracted and formatted `reidhub` dataset\n",
            "\n"
          ]
        }
      ],
      "source": [
        "from reidhub.access.provenance.gzgc import download_and_extract\n",
        "help(download_and_extract)"
      ]
    },
    {
      "cell_type": "code",
      "execution_count": 10,
      "metadata": {
        "colab": {
          "base_uri": "https://localhost:8080/"
        },
        "id": "6Z--ucEPaavt",
        "outputId": "2d0c2d73-18a3-4776-aee7-fbaaeb3b9b79"
      },
      "outputs": [
        {
          "output_type": "stream",
          "name": "stdout",
          "text": [
            "Dataset downloaded to: /root/.reidhub_cache/gzgc\n"
          ]
        }
      ],
      "source": [
        "dataset_root = download_and_extract()\n",
        "print(f'Dataset downloaded to: {dataset_root}')"
      ]
    },
    {
      "cell_type": "markdown",
      "metadata": {
        "id": "J73zW4wJaavv"
      },
      "source": [
        "### Systematize the Dataset Metadata\n",
        "\n",
        "To be enable standard reproducible animal reidentification workflows using many different datasets, we systematize the dataset metadata. This will ensure that the dataset metadata such as `animal identification`, `viewpoint` eg left/right/front etc, `species`, `timestamp` and a lot more are standardized across different datasets from different sources."
      ]
    },
    {
      "cell_type": "code",
      "execution_count": 11,
      "metadata": {
        "colab": {
          "base_uri": "https://localhost:8080/"
        },
        "id": "5CxMXdybaavx",
        "outputId": "ef710cf5-7d21-429b-dc07-c05f695e8ff4"
      },
      "outputs": [
        {
          "output_type": "stream",
          "name": "stdout",
          "text": [
            "Help on function systematize_dataset_metadata in module reidhub.access.provenance.gzgc:\n",
            "\n",
            "systematize_dataset_metadata(dataset_root: str) -> pandas.core.frame.DataFrame\n",
            "    Systematize dataset metadata for the Great Zebra and Giraffe Count and ID dataset\n",
            "    Args:\n",
            "        dataset_root (str) : The root path containing the extracted dataset\n",
            "\n",
            "    Returns:\n",
            "        pd.DataFrame: output dataframe containing systematized metadata\n",
            "\n"
          ]
        }
      ],
      "source": [
        "from reidhub.access.provenance.gzgc import systematize_dataset_metadata\n",
        "help(systematize_dataset_metadata)"
      ]
    },
    {
      "cell_type": "code",
      "execution_count": 12,
      "metadata": {
        "id": "h3MoAhd-aavz"
      },
      "outputs": [],
      "source": [
        "metadata_df = systematize_dataset_metadata(dataset_root)"
      ]
    },
    {
      "cell_type": "code",
      "execution_count": 13,
      "metadata": {
        "id": "dasvXMEIaav0"
      },
      "outputs": [],
      "source": [
        "## Add a full path column\n",
        "metadata_df['fullpath'] = metadata_df['filepath'].apply(\n",
        "    lambda x : os.path.join(dataset_root, x)\n",
        ")"
      ]
    },
    {
      "cell_type": "code",
      "source": [
        "metadata_df"
      ],
      "metadata": {
        "colab": {
          "base_uri": "https://localhost:8080/",
          "height": 965
        },
        "id": "EziM2GGaikig",
        "outputId": "861997cd-8be5-4afd-f740-bbdcc3a8e274"
      },
      "execution_count": 14,
      "outputs": [
        {
          "output_type": "execute_result",
          "data": {
            "text/plain": [
              "                                         filepath  \\\n",
              "0     gzgc.coco/images/train2020/000000000001.jpg   \n",
              "1     gzgc.coco/images/train2020/000000000002.jpg   \n",
              "2     gzgc.coco/images/train2020/000000000003.jpg   \n",
              "3     gzgc.coco/images/train2020/000000000004.jpg   \n",
              "4     gzgc.coco/images/train2020/000000000005.jpg   \n",
              "...                                           ...   \n",
              "6920  gzgc.coco/images/train2020/000000004944.jpg   \n",
              "6921  gzgc.coco/images/train2020/000000004945.jpg   \n",
              "6922  gzgc.coco/images/train2020/000000004946.jpg   \n",
              "6923  gzgc.coco/images/train2020/000000004947.jpg   \n",
              "6924  gzgc.coco/images/train2020/000000004948.jpg   \n",
              "\n",
              "                                                   bbox  viewpoint  \\\n",
              "0                         [895.5, 437.0, 1221.0, 690.0]       left   \n",
              "1                         [951.0, 488.5, 1178.5, 728.5]       left   \n",
              "2                         [981.0, 552.5, 1131.0, 750.0]       left   \n",
              "3                         [432.5, 531.0, 1740.0, 938.5]       left   \n",
              "4                         [1568.5, 942.5, 450.0, 462.5]       left   \n",
              "...                                                 ...        ...   \n",
              "6920  [1084.2696629213483, 0.0, 1152.3876404494383, ...       left   \n",
              "6921  [779.494382022472, 363.76404494382024, 681.179...       left   \n",
              "6922  [1358.1460674157304, 0.0, 912.2191011235956, 1...       left   \n",
              "6923  [1221.2078651685395, 231.03932584269666, 458.5...      front   \n",
              "6924  [1127.1067415730338, 37.921348314606746, 689.6...  frontleft   \n",
              "\n",
              "            species       identity  \\\n",
              "0      zebra_plains  IBEIS_PZ_1561   \n",
              "1      zebra_plains  IBEIS_PZ_1561   \n",
              "2      zebra_plains  IBEIS_PZ_1561   \n",
              "3      zebra_plains  IBEIS_PZ_1563   \n",
              "4     giraffe_masai  NNP_GIRM_0140   \n",
              "...             ...            ...   \n",
              "6920  giraffe_masai  NNP_GIRM_0074   \n",
              "6921  giraffe_masai  NNP_GIRM_0030   \n",
              "6922  giraffe_masai  NNP_GIRM_0030   \n",
              "6923  giraffe_masai  NNP_GIRM_0069   \n",
              "6924  giraffe_masai  NNP_GIRM_0069   \n",
              "\n",
              "                                                license  height  width  \\\n",
              "0     http://creativecommons.org/licenses/by-nc-nd/2.0/    2000   3000   \n",
              "1     http://creativecommons.org/licenses/by-nc-nd/2.0/    2000   3000   \n",
              "2     http://creativecommons.org/licenses/by-nc-nd/2.0/    2000   3000   \n",
              "3     http://creativecommons.org/licenses/by-nc-nd/2.0/    2000   3000   \n",
              "4     http://creativecommons.org/licenses/by-nc-nd/2.0/    2000   3000   \n",
              "...                                                 ...     ...    ...   \n",
              "6920  http://creativecommons.org/licenses/by-nc-nd/2.0/    2000   3000   \n",
              "6921  http://creativecommons.org/licenses/by-nc-nd/2.0/    2000   3000   \n",
              "6922  http://creativecommons.org/licenses/by-nc-nd/2.0/    2000   3000   \n",
              "6923  http://creativecommons.org/licenses/by-nc-nd/2.0/    2000   3000   \n",
              "6924  http://creativecommons.org/licenses/by-nc-nd/2.0/    2000   3000   \n",
              "\n",
              "                                       photographer            timestamp  \\\n",
              "0     NNP GZC Car '10WHITE', Person 'A', Image 0005  2015-03-01 14:53:46   \n",
              "1     NNP GZC Car '10WHITE', Person 'A', Image 0006  2015-03-01 14:53:46   \n",
              "2     NNP GZC Car '10WHITE', Person 'A', Image 0007  2015-03-01 14:53:52   \n",
              "3     NNP GZC Car '10WHITE', Person 'A', Image 0008  2015-03-01 14:53:58   \n",
              "4     NNP GZC Car '10WHITE', Person 'A', Image 0010  2015-03-01 15:02:32   \n",
              "...                                             ...                  ...   \n",
              "6920                                                 2015-02-26 13:50:34   \n",
              "6921                                                 2015-02-26 13:50:40   \n",
              "6922                                                 2015-02-26 13:50:50   \n",
              "6923                                                 2015-02-26 13:51:10   \n",
              "6924                                                 2015-02-26 13:51:17   \n",
              "\n",
              "       latitude  longitude   secondary_identities  image_id  \\\n",
              "0     -1.351341  36.800374        [2, 1, 3, 3459]         1   \n",
              "1     -1.351341  36.800374        [2, 1, 3, 3459]         2   \n",
              "2     -1.351341  36.800374        [2, 1, 3, 3459]         3   \n",
              "3     -1.351341  36.800374                    [4]         4   \n",
              "4     -1.367088  36.781978  [6, 7, 5, 2126, 2270]         5   \n",
              "...         ...        ...                    ...       ...   \n",
              "6920  -1.376729  36.830786     [4724, 6921, 4971]      4944   \n",
              "6921  -1.370916  36.791815           [6923, 6922]      4945   \n",
              "6922  -1.370916  36.791815           [6923, 6922]      4946   \n",
              "6923  -1.370916  36.791815           [6925, 6924]      4947   \n",
              "6924  -1.370916  36.791815           [6925, 6924]      4948   \n",
              "\n",
              "                                               fullpath  \n",
              "0     /root/.reidhub_cache/gzgc/gzgc.coco/images/tra...  \n",
              "1     /root/.reidhub_cache/gzgc/gzgc.coco/images/tra...  \n",
              "2     /root/.reidhub_cache/gzgc/gzgc.coco/images/tra...  \n",
              "3     /root/.reidhub_cache/gzgc/gzgc.coco/images/tra...  \n",
              "4     /root/.reidhub_cache/gzgc/gzgc.coco/images/tra...  \n",
              "...                                                 ...  \n",
              "6920  /root/.reidhub_cache/gzgc/gzgc.coco/images/tra...  \n",
              "6921  /root/.reidhub_cache/gzgc/gzgc.coco/images/tra...  \n",
              "6922  /root/.reidhub_cache/gzgc/gzgc.coco/images/tra...  \n",
              "6923  /root/.reidhub_cache/gzgc/gzgc.coco/images/tra...  \n",
              "6924  /root/.reidhub_cache/gzgc/gzgc.coco/images/tra...  \n",
              "\n",
              "[6925 rows x 15 columns]"
            ],
            "text/html": [
              "\n",
              "  <div id=\"df-8d2fde71-0ed7-4145-8304-de5466817044\" class=\"colab-df-container\">\n",
              "    <div>\n",
              "<style scoped>\n",
              "    .dataframe tbody tr th:only-of-type {\n",
              "        vertical-align: middle;\n",
              "    }\n",
              "\n",
              "    .dataframe tbody tr th {\n",
              "        vertical-align: top;\n",
              "    }\n",
              "\n",
              "    .dataframe thead th {\n",
              "        text-align: right;\n",
              "    }\n",
              "</style>\n",
              "<table border=\"1\" class=\"dataframe\">\n",
              "  <thead>\n",
              "    <tr style=\"text-align: right;\">\n",
              "      <th></th>\n",
              "      <th>filepath</th>\n",
              "      <th>bbox</th>\n",
              "      <th>viewpoint</th>\n",
              "      <th>species</th>\n",
              "      <th>identity</th>\n",
              "      <th>license</th>\n",
              "      <th>height</th>\n",
              "      <th>width</th>\n",
              "      <th>photographer</th>\n",
              "      <th>timestamp</th>\n",
              "      <th>latitude</th>\n",
              "      <th>longitude</th>\n",
              "      <th>secondary_identities</th>\n",
              "      <th>image_id</th>\n",
              "      <th>fullpath</th>\n",
              "    </tr>\n",
              "  </thead>\n",
              "  <tbody>\n",
              "    <tr>\n",
              "      <th>0</th>\n",
              "      <td>gzgc.coco/images/train2020/000000000001.jpg</td>\n",
              "      <td>[895.5, 437.0, 1221.0, 690.0]</td>\n",
              "      <td>left</td>\n",
              "      <td>zebra_plains</td>\n",
              "      <td>IBEIS_PZ_1561</td>\n",
              "      <td>http://creativecommons.org/licenses/by-nc-nd/2.0/</td>\n",
              "      <td>2000</td>\n",
              "      <td>3000</td>\n",
              "      <td>NNP GZC Car '10WHITE', Person 'A', Image 0005</td>\n",
              "      <td>2015-03-01 14:53:46</td>\n",
              "      <td>-1.351341</td>\n",
              "      <td>36.800374</td>\n",
              "      <td>[2, 1, 3, 3459]</td>\n",
              "      <td>1</td>\n",
              "      <td>/root/.reidhub_cache/gzgc/gzgc.coco/images/tra...</td>\n",
              "    </tr>\n",
              "    <tr>\n",
              "      <th>1</th>\n",
              "      <td>gzgc.coco/images/train2020/000000000002.jpg</td>\n",
              "      <td>[951.0, 488.5, 1178.5, 728.5]</td>\n",
              "      <td>left</td>\n",
              "      <td>zebra_plains</td>\n",
              "      <td>IBEIS_PZ_1561</td>\n",
              "      <td>http://creativecommons.org/licenses/by-nc-nd/2.0/</td>\n",
              "      <td>2000</td>\n",
              "      <td>3000</td>\n",
              "      <td>NNP GZC Car '10WHITE', Person 'A', Image 0006</td>\n",
              "      <td>2015-03-01 14:53:46</td>\n",
              "      <td>-1.351341</td>\n",
              "      <td>36.800374</td>\n",
              "      <td>[2, 1, 3, 3459]</td>\n",
              "      <td>2</td>\n",
              "      <td>/root/.reidhub_cache/gzgc/gzgc.coco/images/tra...</td>\n",
              "    </tr>\n",
              "    <tr>\n",
              "      <th>2</th>\n",
              "      <td>gzgc.coco/images/train2020/000000000003.jpg</td>\n",
              "      <td>[981.0, 552.5, 1131.0, 750.0]</td>\n",
              "      <td>left</td>\n",
              "      <td>zebra_plains</td>\n",
              "      <td>IBEIS_PZ_1561</td>\n",
              "      <td>http://creativecommons.org/licenses/by-nc-nd/2.0/</td>\n",
              "      <td>2000</td>\n",
              "      <td>3000</td>\n",
              "      <td>NNP GZC Car '10WHITE', Person 'A', Image 0007</td>\n",
              "      <td>2015-03-01 14:53:52</td>\n",
              "      <td>-1.351341</td>\n",
              "      <td>36.800374</td>\n",
              "      <td>[2, 1, 3, 3459]</td>\n",
              "      <td>3</td>\n",
              "      <td>/root/.reidhub_cache/gzgc/gzgc.coco/images/tra...</td>\n",
              "    </tr>\n",
              "    <tr>\n",
              "      <th>3</th>\n",
              "      <td>gzgc.coco/images/train2020/000000000004.jpg</td>\n",
              "      <td>[432.5, 531.0, 1740.0, 938.5]</td>\n",
              "      <td>left</td>\n",
              "      <td>zebra_plains</td>\n",
              "      <td>IBEIS_PZ_1563</td>\n",
              "      <td>http://creativecommons.org/licenses/by-nc-nd/2.0/</td>\n",
              "      <td>2000</td>\n",
              "      <td>3000</td>\n",
              "      <td>NNP GZC Car '10WHITE', Person 'A', Image 0008</td>\n",
              "      <td>2015-03-01 14:53:58</td>\n",
              "      <td>-1.351341</td>\n",
              "      <td>36.800374</td>\n",
              "      <td>[4]</td>\n",
              "      <td>4</td>\n",
              "      <td>/root/.reidhub_cache/gzgc/gzgc.coco/images/tra...</td>\n",
              "    </tr>\n",
              "    <tr>\n",
              "      <th>4</th>\n",
              "      <td>gzgc.coco/images/train2020/000000000005.jpg</td>\n",
              "      <td>[1568.5, 942.5, 450.0, 462.5]</td>\n",
              "      <td>left</td>\n",
              "      <td>giraffe_masai</td>\n",
              "      <td>NNP_GIRM_0140</td>\n",
              "      <td>http://creativecommons.org/licenses/by-nc-nd/2.0/</td>\n",
              "      <td>2000</td>\n",
              "      <td>3000</td>\n",
              "      <td>NNP GZC Car '10WHITE', Person 'A', Image 0010</td>\n",
              "      <td>2015-03-01 15:02:32</td>\n",
              "      <td>-1.367088</td>\n",
              "      <td>36.781978</td>\n",
              "      <td>[6, 7, 5, 2126, 2270]</td>\n",
              "      <td>5</td>\n",
              "      <td>/root/.reidhub_cache/gzgc/gzgc.coco/images/tra...</td>\n",
              "    </tr>\n",
              "    <tr>\n",
              "      <th>...</th>\n",
              "      <td>...</td>\n",
              "      <td>...</td>\n",
              "      <td>...</td>\n",
              "      <td>...</td>\n",
              "      <td>...</td>\n",
              "      <td>...</td>\n",
              "      <td>...</td>\n",
              "      <td>...</td>\n",
              "      <td>...</td>\n",
              "      <td>...</td>\n",
              "      <td>...</td>\n",
              "      <td>...</td>\n",
              "      <td>...</td>\n",
              "      <td>...</td>\n",
              "      <td>...</td>\n",
              "    </tr>\n",
              "    <tr>\n",
              "      <th>6920</th>\n",
              "      <td>gzgc.coco/images/train2020/000000004944.jpg</td>\n",
              "      <td>[1084.2696629213483, 0.0, 1152.3876404494383, ...</td>\n",
              "      <td>left</td>\n",
              "      <td>giraffe_masai</td>\n",
              "      <td>NNP_GIRM_0074</td>\n",
              "      <td>http://creativecommons.org/licenses/by-nc-nd/2.0/</td>\n",
              "      <td>2000</td>\n",
              "      <td>3000</td>\n",
              "      <td></td>\n",
              "      <td>2015-02-26 13:50:34</td>\n",
              "      <td>-1.376729</td>\n",
              "      <td>36.830786</td>\n",
              "      <td>[4724, 6921, 4971]</td>\n",
              "      <td>4944</td>\n",
              "      <td>/root/.reidhub_cache/gzgc/gzgc.coco/images/tra...</td>\n",
              "    </tr>\n",
              "    <tr>\n",
              "      <th>6921</th>\n",
              "      <td>gzgc.coco/images/train2020/000000004945.jpg</td>\n",
              "      <td>[779.494382022472, 363.76404494382024, 681.179...</td>\n",
              "      <td>left</td>\n",
              "      <td>giraffe_masai</td>\n",
              "      <td>NNP_GIRM_0030</td>\n",
              "      <td>http://creativecommons.org/licenses/by-nc-nd/2.0/</td>\n",
              "      <td>2000</td>\n",
              "      <td>3000</td>\n",
              "      <td></td>\n",
              "      <td>2015-02-26 13:50:40</td>\n",
              "      <td>-1.370916</td>\n",
              "      <td>36.791815</td>\n",
              "      <td>[6923, 6922]</td>\n",
              "      <td>4945</td>\n",
              "      <td>/root/.reidhub_cache/gzgc/gzgc.coco/images/tra...</td>\n",
              "    </tr>\n",
              "    <tr>\n",
              "      <th>6922</th>\n",
              "      <td>gzgc.coco/images/train2020/000000004946.jpg</td>\n",
              "      <td>[1358.1460674157304, 0.0, 912.2191011235956, 1...</td>\n",
              "      <td>left</td>\n",
              "      <td>giraffe_masai</td>\n",
              "      <td>NNP_GIRM_0030</td>\n",
              "      <td>http://creativecommons.org/licenses/by-nc-nd/2.0/</td>\n",
              "      <td>2000</td>\n",
              "      <td>3000</td>\n",
              "      <td></td>\n",
              "      <td>2015-02-26 13:50:50</td>\n",
              "      <td>-1.370916</td>\n",
              "      <td>36.791815</td>\n",
              "      <td>[6923, 6922]</td>\n",
              "      <td>4946</td>\n",
              "      <td>/root/.reidhub_cache/gzgc/gzgc.coco/images/tra...</td>\n",
              "    </tr>\n",
              "    <tr>\n",
              "      <th>6923</th>\n",
              "      <td>gzgc.coco/images/train2020/000000004947.jpg</td>\n",
              "      <td>[1221.2078651685395, 231.03932584269666, 458.5...</td>\n",
              "      <td>front</td>\n",
              "      <td>giraffe_masai</td>\n",
              "      <td>NNP_GIRM_0069</td>\n",
              "      <td>http://creativecommons.org/licenses/by-nc-nd/2.0/</td>\n",
              "      <td>2000</td>\n",
              "      <td>3000</td>\n",
              "      <td></td>\n",
              "      <td>2015-02-26 13:51:10</td>\n",
              "      <td>-1.370916</td>\n",
              "      <td>36.791815</td>\n",
              "      <td>[6925, 6924]</td>\n",
              "      <td>4947</td>\n",
              "      <td>/root/.reidhub_cache/gzgc/gzgc.coco/images/tra...</td>\n",
              "    </tr>\n",
              "    <tr>\n",
              "      <th>6924</th>\n",
              "      <td>gzgc.coco/images/train2020/000000004948.jpg</td>\n",
              "      <td>[1127.1067415730338, 37.921348314606746, 689.6...</td>\n",
              "      <td>frontleft</td>\n",
              "      <td>giraffe_masai</td>\n",
              "      <td>NNP_GIRM_0069</td>\n",
              "      <td>http://creativecommons.org/licenses/by-nc-nd/2.0/</td>\n",
              "      <td>2000</td>\n",
              "      <td>3000</td>\n",
              "      <td></td>\n",
              "      <td>2015-02-26 13:51:17</td>\n",
              "      <td>-1.370916</td>\n",
              "      <td>36.791815</td>\n",
              "      <td>[6925, 6924]</td>\n",
              "      <td>4948</td>\n",
              "      <td>/root/.reidhub_cache/gzgc/gzgc.coco/images/tra...</td>\n",
              "    </tr>\n",
              "  </tbody>\n",
              "</table>\n",
              "<p>6925 rows × 15 columns</p>\n",
              "</div>\n",
              "    <div class=\"colab-df-buttons\">\n",
              "\n",
              "  <div class=\"colab-df-container\">\n",
              "    <button class=\"colab-df-convert\" onclick=\"convertToInteractive('df-8d2fde71-0ed7-4145-8304-de5466817044')\"\n",
              "            title=\"Convert this dataframe to an interactive table.\"\n",
              "            style=\"display:none;\">\n",
              "\n",
              "  <svg xmlns=\"http://www.w3.org/2000/svg\" height=\"24px\" viewBox=\"0 -960 960 960\">\n",
              "    <path d=\"M120-120v-720h720v720H120Zm60-500h600v-160H180v160Zm220 220h160v-160H400v160Zm0 220h160v-160H400v160ZM180-400h160v-160H180v160Zm440 0h160v-160H620v160ZM180-180h160v-160H180v160Zm440 0h160v-160H620v160Z\"/>\n",
              "  </svg>\n",
              "    </button>\n",
              "\n",
              "  <style>\n",
              "    .colab-df-container {\n",
              "      display:flex;\n",
              "      gap: 12px;\n",
              "    }\n",
              "\n",
              "    .colab-df-convert {\n",
              "      background-color: #E8F0FE;\n",
              "      border: none;\n",
              "      border-radius: 50%;\n",
              "      cursor: pointer;\n",
              "      display: none;\n",
              "      fill: #1967D2;\n",
              "      height: 32px;\n",
              "      padding: 0 0 0 0;\n",
              "      width: 32px;\n",
              "    }\n",
              "\n",
              "    .colab-df-convert:hover {\n",
              "      background-color: #E2EBFA;\n",
              "      box-shadow: 0px 1px 2px rgba(60, 64, 67, 0.3), 0px 1px 3px 1px rgba(60, 64, 67, 0.15);\n",
              "      fill: #174EA6;\n",
              "    }\n",
              "\n",
              "    .colab-df-buttons div {\n",
              "      margin-bottom: 4px;\n",
              "    }\n",
              "\n",
              "    [theme=dark] .colab-df-convert {\n",
              "      background-color: #3B4455;\n",
              "      fill: #D2E3FC;\n",
              "    }\n",
              "\n",
              "    [theme=dark] .colab-df-convert:hover {\n",
              "      background-color: #434B5C;\n",
              "      box-shadow: 0px 1px 3px 1px rgba(0, 0, 0, 0.15);\n",
              "      filter: drop-shadow(0px 1px 2px rgba(0, 0, 0, 0.3));\n",
              "      fill: #FFFFFF;\n",
              "    }\n",
              "  </style>\n",
              "\n",
              "    <script>\n",
              "      const buttonEl =\n",
              "        document.querySelector('#df-8d2fde71-0ed7-4145-8304-de5466817044 button.colab-df-convert');\n",
              "      buttonEl.style.display =\n",
              "        google.colab.kernel.accessAllowed ? 'block' : 'none';\n",
              "\n",
              "      async function convertToInteractive(key) {\n",
              "        const element = document.querySelector('#df-8d2fde71-0ed7-4145-8304-de5466817044');\n",
              "        const dataTable =\n",
              "          await google.colab.kernel.invokeFunction('convertToInteractive',\n",
              "                                                    [key], {});\n",
              "        if (!dataTable) return;\n",
              "\n",
              "        const docLinkHtml = 'Like what you see? Visit the ' +\n",
              "          '<a target=\"_blank\" href=https://colab.research.google.com/notebooks/data_table.ipynb>data table notebook</a>'\n",
              "          + ' to learn more about interactive tables.';\n",
              "        element.innerHTML = '';\n",
              "        dataTable['output_type'] = 'display_data';\n",
              "        await google.colab.output.renderOutput(dataTable, element);\n",
              "        const docLink = document.createElement('div');\n",
              "        docLink.innerHTML = docLinkHtml;\n",
              "        element.appendChild(docLink);\n",
              "      }\n",
              "    </script>\n",
              "  </div>\n",
              "\n",
              "\n",
              "    <div id=\"df-87c58b13-c6ad-4278-98e1-4a50cece396b\">\n",
              "      <button class=\"colab-df-quickchart\" onclick=\"quickchart('df-87c58b13-c6ad-4278-98e1-4a50cece396b')\"\n",
              "                title=\"Suggest charts\"\n",
              "                style=\"display:none;\">\n",
              "\n",
              "<svg xmlns=\"http://www.w3.org/2000/svg\" height=\"24px\"viewBox=\"0 0 24 24\"\n",
              "     width=\"24px\">\n",
              "    <g>\n",
              "        <path d=\"M19 3H5c-1.1 0-2 .9-2 2v14c0 1.1.9 2 2 2h14c1.1 0 2-.9 2-2V5c0-1.1-.9-2-2-2zM9 17H7v-7h2v7zm4 0h-2V7h2v10zm4 0h-2v-4h2v4z\"/>\n",
              "    </g>\n",
              "</svg>\n",
              "      </button>\n",
              "\n",
              "<style>\n",
              "  .colab-df-quickchart {\n",
              "      --bg-color: #E8F0FE;\n",
              "      --fill-color: #1967D2;\n",
              "      --hover-bg-color: #E2EBFA;\n",
              "      --hover-fill-color: #174EA6;\n",
              "      --disabled-fill-color: #AAA;\n",
              "      --disabled-bg-color: #DDD;\n",
              "  }\n",
              "\n",
              "  [theme=dark] .colab-df-quickchart {\n",
              "      --bg-color: #3B4455;\n",
              "      --fill-color: #D2E3FC;\n",
              "      --hover-bg-color: #434B5C;\n",
              "      --hover-fill-color: #FFFFFF;\n",
              "      --disabled-bg-color: #3B4455;\n",
              "      --disabled-fill-color: #666;\n",
              "  }\n",
              "\n",
              "  .colab-df-quickchart {\n",
              "    background-color: var(--bg-color);\n",
              "    border: none;\n",
              "    border-radius: 50%;\n",
              "    cursor: pointer;\n",
              "    display: none;\n",
              "    fill: var(--fill-color);\n",
              "    height: 32px;\n",
              "    padding: 0;\n",
              "    width: 32px;\n",
              "  }\n",
              "\n",
              "  .colab-df-quickchart:hover {\n",
              "    background-color: var(--hover-bg-color);\n",
              "    box-shadow: 0 1px 2px rgba(60, 64, 67, 0.3), 0 1px 3px 1px rgba(60, 64, 67, 0.15);\n",
              "    fill: var(--button-hover-fill-color);\n",
              "  }\n",
              "\n",
              "  .colab-df-quickchart-complete:disabled,\n",
              "  .colab-df-quickchart-complete:disabled:hover {\n",
              "    background-color: var(--disabled-bg-color);\n",
              "    fill: var(--disabled-fill-color);\n",
              "    box-shadow: none;\n",
              "  }\n",
              "\n",
              "  .colab-df-spinner {\n",
              "    border: 2px solid var(--fill-color);\n",
              "    border-color: transparent;\n",
              "    border-bottom-color: var(--fill-color);\n",
              "    animation:\n",
              "      spin 1s steps(1) infinite;\n",
              "  }\n",
              "\n",
              "  @keyframes spin {\n",
              "    0% {\n",
              "      border-color: transparent;\n",
              "      border-bottom-color: var(--fill-color);\n",
              "      border-left-color: var(--fill-color);\n",
              "    }\n",
              "    20% {\n",
              "      border-color: transparent;\n",
              "      border-left-color: var(--fill-color);\n",
              "      border-top-color: var(--fill-color);\n",
              "    }\n",
              "    30% {\n",
              "      border-color: transparent;\n",
              "      border-left-color: var(--fill-color);\n",
              "      border-top-color: var(--fill-color);\n",
              "      border-right-color: var(--fill-color);\n",
              "    }\n",
              "    40% {\n",
              "      border-color: transparent;\n",
              "      border-right-color: var(--fill-color);\n",
              "      border-top-color: var(--fill-color);\n",
              "    }\n",
              "    60% {\n",
              "      border-color: transparent;\n",
              "      border-right-color: var(--fill-color);\n",
              "    }\n",
              "    80% {\n",
              "      border-color: transparent;\n",
              "      border-right-color: var(--fill-color);\n",
              "      border-bottom-color: var(--fill-color);\n",
              "    }\n",
              "    90% {\n",
              "      border-color: transparent;\n",
              "      border-bottom-color: var(--fill-color);\n",
              "    }\n",
              "  }\n",
              "</style>\n",
              "\n",
              "      <script>\n",
              "        async function quickchart(key) {\n",
              "          const quickchartButtonEl =\n",
              "            document.querySelector('#' + key + ' button');\n",
              "          quickchartButtonEl.disabled = true;  // To prevent multiple clicks.\n",
              "          quickchartButtonEl.classList.add('colab-df-spinner');\n",
              "          try {\n",
              "            const charts = await google.colab.kernel.invokeFunction(\n",
              "                'suggestCharts', [key], {});\n",
              "          } catch (error) {\n",
              "            console.error('Error during call to suggestCharts:', error);\n",
              "          }\n",
              "          quickchartButtonEl.classList.remove('colab-df-spinner');\n",
              "          quickchartButtonEl.classList.add('colab-df-quickchart-complete');\n",
              "        }\n",
              "        (() => {\n",
              "          let quickchartButtonEl =\n",
              "            document.querySelector('#df-87c58b13-c6ad-4278-98e1-4a50cece396b button');\n",
              "          quickchartButtonEl.style.display =\n",
              "            google.colab.kernel.accessAllowed ? 'block' : 'none';\n",
              "        })();\n",
              "      </script>\n",
              "    </div>\n",
              "\n",
              "  <div id=\"id_07bdef9a-88c4-4b84-9489-67a3ec75cdb8\">\n",
              "    <style>\n",
              "      .colab-df-generate {\n",
              "        background-color: #E8F0FE;\n",
              "        border: none;\n",
              "        border-radius: 50%;\n",
              "        cursor: pointer;\n",
              "        display: none;\n",
              "        fill: #1967D2;\n",
              "        height: 32px;\n",
              "        padding: 0 0 0 0;\n",
              "        width: 32px;\n",
              "      }\n",
              "\n",
              "      .colab-df-generate:hover {\n",
              "        background-color: #E2EBFA;\n",
              "        box-shadow: 0px 1px 2px rgba(60, 64, 67, 0.3), 0px 1px 3px 1px rgba(60, 64, 67, 0.15);\n",
              "        fill: #174EA6;\n",
              "      }\n",
              "\n",
              "      [theme=dark] .colab-df-generate {\n",
              "        background-color: #3B4455;\n",
              "        fill: #D2E3FC;\n",
              "      }\n",
              "\n",
              "      [theme=dark] .colab-df-generate:hover {\n",
              "        background-color: #434B5C;\n",
              "        box-shadow: 0px 1px 3px 1px rgba(0, 0, 0, 0.15);\n",
              "        filter: drop-shadow(0px 1px 2px rgba(0, 0, 0, 0.3));\n",
              "        fill: #FFFFFF;\n",
              "      }\n",
              "    </style>\n",
              "    <button class=\"colab-df-generate\" onclick=\"generateWithVariable('metadata_df')\"\n",
              "            title=\"Generate code using this dataframe.\"\n",
              "            style=\"display:none;\">\n",
              "\n",
              "  <svg xmlns=\"http://www.w3.org/2000/svg\" height=\"24px\"viewBox=\"0 0 24 24\"\n",
              "       width=\"24px\">\n",
              "    <path d=\"M7,19H8.4L18.45,9,17,7.55,7,17.6ZM5,21V16.75L18.45,3.32a2,2,0,0,1,2.83,0l1.4,1.43a1.91,1.91,0,0,1,.58,1.4,1.91,1.91,0,0,1-.58,1.4L9.25,21ZM18.45,9,17,7.55Zm-12,3A5.31,5.31,0,0,0,4.9,8.1,5.31,5.31,0,0,0,1,6.5,5.31,5.31,0,0,0,4.9,4.9,5.31,5.31,0,0,0,6.5,1,5.31,5.31,0,0,0,8.1,4.9,5.31,5.31,0,0,0,12,6.5,5.46,5.46,0,0,0,6.5,12Z\"/>\n",
              "  </svg>\n",
              "    </button>\n",
              "    <script>\n",
              "      (() => {\n",
              "      const buttonEl =\n",
              "        document.querySelector('#id_07bdef9a-88c4-4b84-9489-67a3ec75cdb8 button.colab-df-generate');\n",
              "      buttonEl.style.display =\n",
              "        google.colab.kernel.accessAllowed ? 'block' : 'none';\n",
              "\n",
              "      buttonEl.onclick = () => {\n",
              "        google.colab.notebook.generateWithVariable('metadata_df');\n",
              "      }\n",
              "      })();\n",
              "    </script>\n",
              "  </div>\n",
              "\n",
              "    </div>\n",
              "  </div>\n"
            ],
            "application/vnd.google.colaboratory.intrinsic+json": {
              "type": "dataframe",
              "variable_name": "metadata_df",
              "summary": "{\n  \"name\": \"metadata_df\",\n  \"rows\": 6925,\n  \"fields\": [\n    {\n      \"column\": \"filepath\",\n      \"properties\": {\n        \"dtype\": \"string\",\n        \"num_unique_values\": 4948,\n        \"samples\": [\n          \"gzgc.coco/images/train2020/000000000152.jpg\",\n          \"gzgc.coco/images/train2020/000000000808.jpg\",\n          \"gzgc.coco/images/train2020/000000000622.jpg\"\n        ],\n        \"semantic_type\": \"\",\n        \"description\": \"\"\n      }\n    },\n    {\n      \"column\": \"bbox\",\n      \"properties\": {\n        \"dtype\": \"object\",\n        \"semantic_type\": \"\",\n        \"description\": \"\"\n      }\n    },\n    {\n      \"column\": \"viewpoint\",\n      \"properties\": {\n        \"dtype\": \"category\",\n        \"num_unique_values\": 8,\n        \"samples\": [\n          \"frontleft\",\n          \"back\",\n          \"left\"\n        ],\n        \"semantic_type\": \"\",\n        \"description\": \"\"\n      }\n    },\n    {\n      \"column\": \"species\",\n      \"properties\": {\n        \"dtype\": \"category\",\n        \"num_unique_values\": 2,\n        \"samples\": [\n          \"giraffe_masai\",\n          \"zebra_plains\"\n        ],\n        \"semantic_type\": \"\",\n        \"description\": \"\"\n      }\n    },\n    {\n      \"column\": \"identity\",\n      \"properties\": {\n        \"dtype\": \"category\",\n        \"num_unique_values\": 2056,\n        \"samples\": [\n          \"IBEIS_PZ_1222\",\n          \"IBEIS_PZ_0534\"\n        ],\n        \"semantic_type\": \"\",\n        \"description\": \"\"\n      }\n    },\n    {\n      \"column\": \"license\",\n      \"properties\": {\n        \"dtype\": \"category\",\n        \"num_unique_values\": 1,\n        \"samples\": [\n          \"http://creativecommons.org/licenses/by-nc-nd/2.0/\"\n        ],\n        \"semantic_type\": \"\",\n        \"description\": \"\"\n      }\n    },\n    {\n      \"column\": \"height\",\n      \"properties\": {\n        \"dtype\": \"number\",\n        \"std\": 108,\n        \"min\": 1685,\n        \"max\": 3000,\n        \"num_unique_values\": 9,\n        \"samples\": [\n          1995\n        ],\n        \"semantic_type\": \"\",\n        \"description\": \"\"\n      }\n    },\n    {\n      \"column\": \"width\",\n      \"properties\": {\n        \"dtype\": \"number\",\n        \"std\": 12,\n        \"min\": 2250,\n        \"max\": 3000,\n        \"num_unique_values\": 2,\n        \"samples\": [\n          2250\n        ],\n        \"semantic_type\": \"\",\n        \"description\": \"\"\n      }\n    },\n    {\n      \"column\": \"photographer\",\n      \"properties\": {\n        \"dtype\": \"string\",\n        \"num_unique_values\": 3468,\n        \"samples\": [\n          \"NNP GZC Car '1RED', Person 'B', Image 0188\"\n        ],\n        \"semantic_type\": \"\",\n        \"description\": \"\"\n      }\n    },\n    {\n      \"column\": \"timestamp\",\n      \"properties\": {\n        \"dtype\": \"string\",\n        \"num_unique_values\": 4631,\n        \"samples\": [\n          \"2015-03-01 14:16:26\"\n        ],\n        \"semantic_type\": \"\",\n        \"description\": \"\"\n      }\n    },\n    {\n      \"column\": \"latitude\",\n      \"properties\": {\n        \"dtype\": \"category\",\n        \"num_unique_values\": 1971,\n        \"samples\": [\n          \"-1.372722\"\n        ],\n        \"semantic_type\": \"\",\n        \"description\": \"\"\n      }\n    },\n    {\n      \"column\": \"longitude\",\n      \"properties\": {\n        \"dtype\": \"category\",\n        \"num_unique_values\": 1989,\n        \"samples\": [\n          \"36.920491\"\n        ],\n        \"semantic_type\": \"\",\n        \"description\": \"\"\n      }\n    },\n    {\n      \"column\": \"secondary_identities\",\n      \"properties\": {\n        \"dtype\": \"object\",\n        \"semantic_type\": \"\",\n        \"description\": \"\"\n      }\n    },\n    {\n      \"column\": \"image_id\",\n      \"properties\": {\n        \"dtype\": \"number\",\n        \"std\": 1428,\n        \"min\": 1,\n        \"max\": 4948,\n        \"num_unique_values\": 4948,\n        \"samples\": [\n          152\n        ],\n        \"semantic_type\": \"\",\n        \"description\": \"\"\n      }\n    },\n    {\n      \"column\": \"fullpath\",\n      \"properties\": {\n        \"dtype\": \"string\",\n        \"num_unique_values\": 4948,\n        \"samples\": [\n          \"/root/.reidhub_cache/gzgc/gzgc.coco/images/train2020/000000000152.jpg\"\n        ],\n        \"semantic_type\": \"\",\n        \"description\": \"\"\n      }\n    }\n  ]\n}"
            }
          },
          "metadata": {},
          "execution_count": 14
        }
      ]
    },
    {
      "cell_type": "markdown",
      "source": [
        "### Create Fiftyone Dataset"
      ],
      "metadata": {
        "id": "EUUAq5yDeVv6"
      }
    },
    {
      "cell_type": "markdown",
      "source": [
        "[Fiftyone](https://docs.voxel51.com/) is a powerful tool for interactive visualization of computer vision datasets.\n",
        "\n",
        "Fiftyone's plugin feature allows for extensibility of it's functionality. In the next steps, we are going to be using a few plugins from the Fiftyone community to visualize and enrich our datasets, such as the following:\n",
        "- Image Quality Issues Plugin\n",
        "- Dashboard Plugin"
      ],
      "metadata": {
        "id": "rRYNdl5BgsbU"
      }
    },
    {
      "cell_type": "code",
      "source": [
        "from reidhub.access.utils import create_fiftyone_dataset\n",
        "help(create_fiftyone_dataset)"
      ],
      "metadata": {
        "colab": {
          "base_uri": "https://localhost:8080/"
        },
        "id": "JQBoCyBleYeu",
        "outputId": "88e8a8ca-a0a7-465f-d666-93b87fcb1353"
      },
      "execution_count": 15,
      "outputs": [
        {
          "output_type": "stream",
          "name": "stderr",
          "text": [
            "/usr/local/lib/python3.12/dist-packages/glob2/fnmatch.py:141: SyntaxWarning: invalid escape sequence '\\Z'\n",
            "  return '(?ms)' + res + '\\Z'\n"
          ]
        },
        {
          "output_type": "stream",
          "name": "stdout",
          "text": [
            "Help on function create_fiftyone_dataset in module reidhub.access.utils:\n",
            "\n",
            "create_fiftyone_dataset(root_path: str, metadata_df: pandas.core.frame.DataFrame, dataset_name: str, fields: Optional[List[str]] = None) -> fiftyone.core.dataset.Dataset\n",
            "    creates a fiftyone dataset\n",
            "    Args:\n",
            "        root_path (str) : the root of the dataset containing the images <- also allow pathlib Paths\n",
            "        metadata_df (pd.DataFrame) : the metadata for the dataset. Should have the columns (identity, image_path, image_type,)\n",
            "        dataset_name (str) : The name of the fiftyone dataset created\n",
            "        fields (list of str) : list of fields required in the fiftyone dataset created. should be existing columns in the metadata_df.                 Default : None : Use all the columns in the metadata_df\n",
            "    Returns:\n",
            "        fo.Dataset: Fiftyone dataset\n",
            "\n"
          ]
        }
      ]
    },
    {
      "cell_type": "code",
      "source": [
        "dataset = create_fiftyone_dataset(dataset_root, metadata_df, dataset_name='gzgc')"
      ],
      "metadata": {
        "colab": {
          "base_uri": "https://localhost:8080/"
        },
        "id": "I3EpV8DIedsy",
        "outputId": "4fc2ee2d-7ef1-448f-c1d2-5e20b0d5e172"
      },
      "execution_count": 16,
      "outputs": [
        {
          "output_type": "stream",
          "name": "stdout",
          "text": [
            "You are running the oldest supported major version of MongoDB. Please refer to https://deprecation.voxel51.com for deprecation notices. You can suppress this exception by setting your `database_validation` config parameter to `False`. See https://docs.voxel51.com/user_guide/config.html#configuring-a-mongodb-connection for more information\n"
          ]
        },
        {
          "output_type": "stream",
          "name": "stderr",
          "text": [
            "WARNING:fiftyone.core.odm.database:You are running the oldest supported major version of MongoDB. Please refer to https://deprecation.voxel51.com for deprecation notices. You can suppress this exception by setting your `database_validation` config parameter to `False`. See https://docs.voxel51.com/user_guide/config.html#configuring-a-mongodb-connection for more information\n"
          ]
        },
        {
          "output_type": "stream",
          "name": "stdout",
          "text": [
            " 100% |███████████████| 6925/6925 [2.4s elapsed, 0s remaining, 3.1K samples/s]      \n"
          ]
        },
        {
          "output_type": "stream",
          "name": "stderr",
          "text": [
            "INFO:eta.core.utils: 100% |███████████████| 6925/6925 [2.4s elapsed, 0s remaining, 3.1K samples/s]      \n"
          ]
        },
        {
          "output_type": "stream",
          "name": "stdout",
          "text": [
            "Computing metadata...\n"
          ]
        },
        {
          "output_type": "stream",
          "name": "stderr",
          "text": [
            "INFO:fiftyone.core.metadata:Computing metadata...\n"
          ]
        },
        {
          "output_type": "stream",
          "name": "stdout",
          "text": [
            " 100% |███████████████| 6925/6925 [12.4s elapsed, 0s remaining, 538.0 samples/s]      \n"
          ]
        },
        {
          "output_type": "stream",
          "name": "stderr",
          "text": [
            "INFO:eta.core.utils: 100% |███████████████| 6925/6925 [12.4s elapsed, 0s remaining, 538.0 samples/s]      \n"
          ]
        }
      ]
    },
    {
      "cell_type": "markdown",
      "metadata": {
        "id": "AEXzHY6Zaav2"
      },
      "source": [
        "## Assess"
      ]
    },
    {
      "cell_type": "markdown",
      "metadata": {
        "id": "cD2pC3JCaav2"
      },
      "source": [
        "### Static Visualizations\n",
        "We are going to start assessing the downloaded dataset by first plotting a few non-interactive visualizations.\n",
        "Some of the static visualizations implemented in reidhub that we are going to use include:\n",
        " - Sample Image Grids: To showcase some sample images in the dataset. This is just to get a glimpse of the dataset.\n",
        " - Identity Distributions: To get a rough idea of the number of sightnings for the animals. Some of the datasets have very long tailed distributions\n",
        "\n",
        "#### 1. Show sample images\n",
        "\n",
        "To get a feel of the dataset and to check that indeed that dataset has been successfully loaded and and preprocessed to systematize the dataset metadata, we are going to plot a grid of sample images from the dataset.\n",
        "\n",
        "The purpose of the static visualizations is just to get a rough idea of what the dataset images look like. Keep in mind that different datasets come in different image formats. Some are already segmented while others are full images. Some of the datasets have different individuals already cropped out from the original images while some come with the full images and include bounding boxes.\n",
        "\n",
        "The images in the grid have different coloured borders to showcase different identities."
      ]
    },
    {
      "cell_type": "markdown",
      "source": [
        "#### Show a grid of sample images"
      ],
      "metadata": {
        "id": "CmlCTl5gAoDQ"
      }
    },
    {
      "cell_type": "code",
      "execution_count": 17,
      "metadata": {
        "colab": {
          "base_uri": "https://localhost:8080/"
        },
        "id": "R1ZTXe_Jaav5",
        "outputId": "cddb7471-50bb-4509-de1f-2c5eb5ccfde8"
      },
      "outputs": [
        {
          "output_type": "stream",
          "name": "stdout",
          "text": [
            "Help on function plot_grid in module reidhub.assess.statics:\n",
            "\n",
            "plot_grid(images: List[Union[numpy.ndarray, PIL.Image.Image]], ids: List[int], grid_shape: Tuple[int, int] = (3, 3), img_size: Tuple[int, int] = (224, 224), spacing: float = 0.05) -> matplotlib.figure.Figure\n",
            "    Plot a grid of images with colored borders per identity.\n",
            "\n",
            "    Args:\n",
            "        images (List[Union[np.ndarray, PIL.Image.Image]]): List of images (either numpy arrays or PIL images).\n",
            "        ids (List[int]): List of identity labels corresponding to each image.\n",
            "        grid_shape (Tuple[int, int], optional): Shape of the grid as (rows, cols). Default is (3, 3).\n",
            "        img_size (Tuple[int, int], optional): The (height, width) to resize the images. Default is (224, 224).\n",
            "        spacing (float, optional): Fractional spacing between subplots. Default is 0.05.\n",
            "\n",
            "    Returns:\n",
            "        plt.Figure: The figure containing the grid of images with borders.\n",
            "\n"
          ]
        }
      ],
      "source": [
        "from reidhub.assess.statics import plot_grid\n",
        "help(plot_grid)"
      ]
    },
    {
      "cell_type": "code",
      "execution_count": 18,
      "metadata": {
        "id": "W08ZdQdaaav8"
      },
      "outputs": [],
      "source": [
        "## Randomly select images to plot in the grid\n",
        "from PIL import Image\n",
        "n_rows, n_cols = 8, 5 # 5, 8 -- TODO: invert\n",
        "\n",
        "samples_df = metadata_df.sample(n_rows*n_cols)\n",
        "images = [Image.open(i) for i in samples_df['fullpath']]\n",
        "ids = samples_df['identity'].values\n",
        "grid_shape = (n_rows, n_cols)"
      ]
    },
    {
      "cell_type": "code",
      "execution_count": null,
      "metadata": {
        "id": "xNCmLdklaav9"
      },
      "outputs": [],
      "source": [
        "fig = plot_grid(images, ids, grid_shape)\n",
        "fig.savefig('gzgc-grid.png')  # saves the output grid as an image"
      ]
    },
    {
      "cell_type": "markdown",
      "source": [
        "#### Visualize Identity Distributions\n",
        "\n"
      ],
      "metadata": {
        "id": "mzj3BImAAfyV"
      }
    },
    {
      "cell_type": "code",
      "source": [
        "%%writefile reidhub/reidhub/assess/statics.py\n",
        "\"\"\"\n",
        "This module contains functions that are useful for generatic static objects for assessing reid datasets\n",
        "Examples: Sample images grid\n",
        "          Identity distributions\n",
        "          etc\n",
        "\n",
        "\"\"\"\n",
        "\n",
        "from collections import Counter\n",
        "import matplotlib.pyplot as plt\n",
        "import matplotlib.patches as patches\n",
        "import numpy as np\n",
        "from PIL import Image\n",
        "from matplotlib.cm import get_cmap\n",
        "from typing import List, Union, Tuple\n",
        "\n",
        "\n",
        "def plot_grid(\n",
        "    images: List[Union[np.ndarray, Image.Image]],\n",
        "    ids: List[int],\n",
        "    grid_shape: Tuple[int, int] = (3, 3),\n",
        "    img_size: Tuple[int, int] = (224, 224),\n",
        "    spacing: float = 0.05,\n",
        ") -> plt.Figure:\n",
        "    \"\"\"\n",
        "    Plot a grid of images with colored borders per identity.\n",
        "\n",
        "    Args:\n",
        "        images (List[Union[np.ndarray, PIL.Image.Image]]): List of images (either numpy arrays or PIL images).\n",
        "        ids (List[int]): List of identity labels corresponding to each image.\n",
        "        grid_shape (Tuple[int, int], optional): Shape of the grid as (rows, cols). Default is (3, 3).\n",
        "        img_size (Tuple[int, int], optional): The (height, width) to resize the images. Default is (224, 224).\n",
        "        spacing (float, optional): Fractional spacing between subplots. Default is 0.05.\n",
        "\n",
        "    Returns:\n",
        "        plt.Figure: The figure containing the grid of images with borders.\n",
        "    \"\"\"\n",
        "    # Unpack grid shape\n",
        "    cols, rows = grid_shape\n",
        "\n",
        "    # Calculate total number of cells in the grid\n",
        "    n = rows * cols\n",
        "\n",
        "    # Sample n images if more are provided\n",
        "    if len(images) > n:\n",
        "        idxs = np.random.choice(len(images), n, replace=False)\n",
        "        images = [images[i] for i in idxs]\n",
        "        ids = [ids[i] for i in idxs]\n",
        "\n",
        "    # Normalize identities into a color map\n",
        "    unique_ids = sorted(set(ids))\n",
        "    cmap = plt.cm.get_cmap(\"tab20\", len(unique_ids))  # Updated cmap access\n",
        "    id2color = {uid: cmap(i) for i, uid in enumerate(unique_ids)}\n",
        "\n",
        "    # Create subplots\n",
        "    fig, axes = plt.subplots(rows, cols, figsize=(cols * 2.5, rows * 2.5))\n",
        "    axes = np.array(axes).reshape(rows, cols)\n",
        "\n",
        "    # Set transparent background\n",
        "    fig.patch.set_alpha(0)\n",
        "\n",
        "    # Plot each image with its border\n",
        "    for ax, img, identity in zip(axes.flatten(), images, ids):\n",
        "        # Convert to PIL Image if necessary and resize\n",
        "        if not isinstance(img, Image.Image):\n",
        "            img = Image.fromarray(img)\n",
        "        img_resized = img.resize(img_size)\n",
        "\n",
        "        # Display image\n",
        "        ax.imshow(img_resized)\n",
        "        ax.axis(\"off\")\n",
        "\n",
        "        # Draw border around the image\n",
        "        rect = patches.Rectangle(\n",
        "            (0, 0),\n",
        "            img_size[0],\n",
        "            img_size[1],\n",
        "            linewidth=10,\n",
        "            edgecolor=id2color[identity],\n",
        "            facecolor=\"none\",\n",
        "            transform=ax.transData,\n",
        "        )\n",
        "        ax.add_patch(rect)\n",
        "\n",
        "    # Remove extra axes if fewer images are provided\n",
        "    for ax in axes.flatten()[len(images) :]:\n",
        "        ax.axis(\"off\")\n",
        "\n",
        "    # Adjust spacing between subplots\n",
        "    plt.subplots_adjust(wspace=spacing, hspace=spacing)\n",
        "\n",
        "    return fig\n",
        "\n",
        "\n",
        "def plot_identity_histogram(ids, bins=50, log_scale=False, alpha=0.6, figsize=(8, 5)):\n",
        "    \"\"\"\n",
        "    Plot a transparent histogram of identity frequencies\n",
        "    (how many images per identity).\n",
        "\n",
        "    Args:\n",
        "        ids (list): List of identity labels.\n",
        "        bins (int or list): Number of bins or explicit bin edges.\n",
        "        log_scale (bool): Whether to use log scale for y-axis.\n",
        "        alpha (float): Transparency of histogram bars (0=fully transparent, 1=opaque).\n",
        "        figsize (tuple): Figure size.\n",
        "    \"\"\"\n",
        "    # Count how many images per identity\n",
        "    counts = Counter(ids).values()\n",
        "\n",
        "    # Plot histogram\n",
        "    fig, ax = plt.subplots(figsize=figsize)\n",
        "    ax.hist(counts, bins=bins, color=\"steelblue\", edgecolor=\"black\", alpha=alpha)\n",
        "\n",
        "    # Transparent backgrounds\n",
        "    fig.patch.set_alpha(0)   # Figure background\n",
        "    ax.patch.set_alpha(0)    # Axes background\n",
        "\n",
        "    ax.set_xlabel(\"Number of images per identity\")\n",
        "    ax.set_ylabel(\"Number of identities\")\n",
        "    ax.set_title(\"Identity Frequency Distribution\")\n",
        "\n",
        "    if log_scale:\n",
        "        ax.set_yscale(\"log\")\n",
        "        ax.set_ylabel(\"Number of identities (log scale)\")\n",
        "\n",
        "    plt.tight_layout()\n",
        "    return fig"
      ],
      "metadata": {
        "id": "lcIsbCFuAdcD"
      },
      "execution_count": null,
      "outputs": []
    },
    {
      "cell_type": "code",
      "source": [
        "from reidhub.assess.statics import plot_grid"
      ],
      "metadata": {
        "id": "7RLcDCtWDZ8y"
      },
      "execution_count": null,
      "outputs": []
    },
    {
      "cell_type": "code",
      "source": [
        "from reidhub.assess.statics import plot_identity_histogram\n",
        "help(plot_identity_histogram)"
      ],
      "metadata": {
        "id": "KrjfvIS8Abtb"
      },
      "execution_count": null,
      "outputs": []
    },
    {
      "cell_type": "code",
      "source": [
        "from collections import Counter\n",
        "import matplotlib.pyplot as plt\n",
        "import matplotlib.patches as patches\n",
        "import numpy as np\n",
        "from PIL import Image\n",
        "from matplotlib.cm import get_cmap\n",
        "from typing import List, Union, Tuple\n",
        "\n",
        "def plot_identity_histogram(ids, bins=50, log_scale=False, alpha=0.6, figsize=(8, 5)):\n",
        "    \"\"\"\n",
        "    Plot a transparent histogram of identity frequencies\n",
        "    (how many images per identity).\n",
        "\n",
        "    Args:\n",
        "        ids (list): List of identity labels.\n",
        "        bins (int or list): Number of bins or explicit bin edges.\n",
        "        log_scale (bool): Whether to use log scale for y-axis.\n",
        "        alpha (float): Transparency of histogram bars (0=fully transparent, 1=opaque).\n",
        "        figsize (tuple): Figure size.\n",
        "    \"\"\"\n",
        "    # Count how many images per identity\n",
        "    counts = Counter(ids).values()\n",
        "\n",
        "    # Plot histogram\n",
        "    fig, ax = plt.subplots(figsize=figsize)\n",
        "    ax.hist(counts, bins=bins, color=\"steelblue\", edgecolor=\"black\", alpha=alpha)\n",
        "\n",
        "    # Transparent backgrounds\n",
        "    fig.patch.set_alpha(0)   # Figure background\n",
        "    ax.patch.set_alpha(0)    # Axes background\n",
        "\n",
        "    ax.set_xlabel(\"Number of images per identity\")\n",
        "    ax.set_ylabel(\"Number of identities\")\n",
        "    ax.set_title(\"Identity Frequency Distribution\")\n",
        "\n",
        "    if log_scale:\n",
        "        ax.set_yscale(\"log\")\n",
        "        ax.set_ylabel(\"Number of identities (log scale)\")\n",
        "\n",
        "    plt.tight_layout()\n",
        "    return fig"
      ],
      "metadata": {
        "id": "oY00l-OmFXST"
      },
      "execution_count": null,
      "outputs": []
    },
    {
      "cell_type": "code",
      "source": [
        "identities = metadata_df['identity'].values\n",
        "\n",
        "fig_identities = plot_identity_histogram(identities)"
      ],
      "metadata": {
        "id": "9y32iCRpAwOX"
      },
      "execution_count": null,
      "outputs": []
    },
    {
      "cell_type": "markdown",
      "source": [
        "> As can be seen from the distributions of identities, most of the animals surveyed during the census were only re-encountered once, making a total of about 1300 animals only seen twice.\n",
        "\n",
        "> Some `\"celebrity\"` animals however sighted more than 50 times. We will be exploring this a bit further using Fiftyone"
      ],
      "metadata": {
        "id": "hKdz5ZXAFzzy"
      }
    },
    {
      "cell_type": "markdown",
      "source": [
        "### Interactive Visualization with Fiftyone"
      ],
      "metadata": {
        "id": "cAJzw0LZwSto"
      }
    },
    {
      "cell_type": "code",
      "source": [
        "import fiftyone as fo\n",
        "\n",
        "session = fo.launch_app(dataset, auto=False)"
      ],
      "metadata": {
        "id": "Xo0BbsjDwW2H"
      },
      "execution_count": null,
      "outputs": []
    },
    {
      "cell_type": "code",
      "source": [
        "session.show()"
      ],
      "metadata": {
        "id": "zskF2hX3wWya"
      },
      "execution_count": null,
      "outputs": []
    },
    {
      "cell_type": "code",
      "source": [
        "## Take a snapshot of the current state of the Fiftyone App\n",
        "session.freeze()"
      ],
      "metadata": {
        "id": "mDuhNw__wil4"
      },
      "execution_count": null,
      "outputs": []
    },
    {
      "cell_type": "markdown",
      "source": [
        "#### Issues:\n",
        "From a visual inspection of the dataset , we can identify a few issues that we will need to deal with:\n",
        "1) Some of the images are spuriously rotated. The exif data has been stripped from the images and therefore systematically finding these issues will be a problem.\n",
        "\n",
        "2) Some of images are crowded. Each image however, focuses on particular animals. This means we will need to save a version of the dataset where the images are cropped into bounding boxes containing individual animals.\n",
        "\n",
        "3)"
      ],
      "metadata": {
        "id": "vX6sLfAUwpGp"
      }
    },
    {
      "cell_type": "markdown",
      "source": [
        "### Image quality issues\n",
        "\n",
        "[Fiftyone](https://docs.voxel51.com/) has a powerful plugin utility that allows us to extend it's functionality. Moreover, there a number of plugins contributed by the community that we can use to programmatically identify issues in image issues using simple heuristics such as the average pixel values etc.\n",
        "\n",
        "We will be using the [image issues plugin](https://github.com/jacobmarks/image-quality-issues)"
      ],
      "metadata": {
        "id": "h3Qi_XbZnZVA"
      }
    },
    {
      "cell_type": "code",
      "execution_count": null,
      "metadata": {
        "id": "2S4vYvhRaav-"
      },
      "outputs": [],
      "source": [
        "from reidhub.access.utils import fiftyone_check_image_quality_issues\n",
        "help(fiftyone_check_image_quality_issues)"
      ]
    },
    {
      "cell_type": "code",
      "source": [
        "# select a subset of operations\n",
        "\n",
        "# Since these computations are quite computationally heavy, \\\n",
        "# we will just compute one of the issues that doesn't require too much compute: aspect ratio\n",
        "\n",
        "IMAGE_ISSUES_OPERATIONS = [\n",
        "    \"compute_aspect_ratio\",\n",
        "    # \"compute_brightness\",\n",
        "    # \"compute_contrast\",\n",
        "    # \"compute_exposure\",\n",
        "    # \"compute_saturation\",\n",
        "    # \"compute_vignetting\",\n",
        "    # \"compute_blurriness\",\n",
        "    # \"compute_entropy\",\n",
        "]"
      ],
      "metadata": {
        "id": "WvIbpbdsojtM"
      },
      "execution_count": null,
      "outputs": []
    },
    {
      "cell_type": "code",
      "source": [
        "dataset = await fiftyone_check_image_quality_issues(dataset, IMAGE_ISSUES_OPERATIONS)"
      ],
      "metadata": {
        "id": "2BDkXt4VyiS8"
      },
      "execution_count": null,
      "outputs": []
    },
    {
      "cell_type": "markdown",
      "source": [
        "### Visualize Image quality Issues"
      ],
      "metadata": {
        "id": "uIIqDAHVy8b9"
      }
    },
    {
      "cell_type": "markdown",
      "source": [
        "We can interactively visualize the image quality issues we have computed using Fiftyone.   \n",
        "Some of the things we can :\n",
        "1) Filter for images above or below a certain `aspect ratio` threshold using the slider on the left  \n",
        "2) Sort images by aspect ratio  \n",
        "3) Visualize `aspect ratio` against other fields such as `brightness` using the **`Dashboard`** plugin  "
      ],
      "metadata": {
        "id": "qIDtuX09HDWv"
      }
    },
    {
      "cell_type": "code",
      "source": [
        "session.show()"
      ],
      "metadata": {
        "id": "tCjsi_1RzDQm"
      },
      "execution_count": null,
      "outputs": []
    },
    {
      "cell_type": "markdown",
      "source": [
        "#### Identifying Exact and Near Duplicates"
      ],
      "metadata": {
        "id": "Ma4PuHtuziml"
      }
    },
    {
      "cell_type": "markdown",
      "source": [
        "We need to be wary of duplicates since it might lead to data leakage whereby exact or near duplicate images appear in both the training and evaluation subsets of the datasets. To ensure that the models we will be training are not evaluated on images that it has already seen, we need to identify and deal with duplicate images in the dataset.\n",
        "\n",
        "Duplicates occur in camera trap datasets due to a number of reasons:\n",
        "\n",
        "1) Some datasets are created from sampling video frames. If the camera and the subject do not move over a period of time, then we can get almost the same image from different frames. This can also occur with static images captured in bursts.\n",
        "\n",
        "2) Exact duplicates can occur if the exact same image is renamed and accidently added to the dataset.\n"
      ],
      "metadata": {
        "id": "MEepTzvqzwJK"
      }
    },
    {
      "cell_type": "code",
      "source": [
        "# from reidhub.assess.statics import check_for_duplicates\n",
        "# help(check_for_duplicates)"
      ],
      "metadata": {
        "id": "rB7bUIKQznO_"
      },
      "execution_count": null,
      "outputs": []
    },
    {
      "cell_type": "code",
      "source": [],
      "metadata": {
        "id": "8-ExrM5RznB7"
      },
      "execution_count": null,
      "outputs": []
    },
    {
      "cell_type": "markdown",
      "source": [
        "#### Remove The Identified Duplicates"
      ],
      "metadata": {
        "id": "2TF5YWzszn9r"
      }
    },
    {
      "cell_type": "code",
      "source": [],
      "metadata": {
        "id": "U8afE6w-sqw_"
      },
      "execution_count": null,
      "outputs": []
    },
    {
      "cell_type": "code",
      "source": [],
      "metadata": {
        "id": "OOnEowbM-R5l"
      },
      "execution_count": null,
      "outputs": []
    },
    {
      "cell_type": "markdown",
      "source": [
        "#### Save Dataset To Hugging Face"
      ],
      "metadata": {
        "id": "FUbdpEvP-Suh"
      }
    },
    {
      "cell_type": "markdown",
      "source": [
        "### Data Enrichment"
      ],
      "metadata": {
        "id": "8XmbeJbP-ZxA"
      }
    },
    {
      "cell_type": "code",
      "source": [],
      "metadata": {
        "id": "dUxKB9VT-R2H"
      },
      "execution_count": null,
      "outputs": []
    },
    {
      "cell_type": "code",
      "source": [],
      "metadata": {
        "id": "U-YWnd8t-Ry7"
      },
      "execution_count": null,
      "outputs": []
    },
    {
      "cell_type": "markdown",
      "source": [
        "## Address"
      ],
      "metadata": {
        "id": "xUwek4fD-W5_"
      }
    },
    {
      "cell_type": "code",
      "source": [],
      "metadata": {
        "id": "CGxErs1C-YzK"
      },
      "execution_count": null,
      "outputs": []
    }
  ],
  "metadata": {
    "language_info": {
      "name": "python"
    },
    "colab": {
      "provenance": [],
      "gpuType": "T4"
    },
    "kernelspec": {
      "name": "python3",
      "display_name": "Python 3"
    },
    "accelerator": "GPU"
  },
  "nbformat": 4,
  "nbformat_minor": 0
}